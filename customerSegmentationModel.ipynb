{
 "cells": [
  {
   "cell_type": "code",
   "execution_count": 0,
   "metadata": {
    "application/vnd.databricks.v1+cell": {
     "cellMetadata": {
      "byteLimit": 2048000,
      "rowLimit": 10000
     },
     "inputWidgets": {},
     "nuid": "1ec27e36-4902-40fb-91eb-547716655dbc",
     "showTitle": false,
     "tableResultSettingsMap": {},
     "title": ""
    }
   },
   "outputs": [],
   "source": [
    "import pandas as pd\n",
    "from pyspark.sql.functions import col, when, lit, avg, count, sum\n",
    "from pyspark.sql.window import Window\n",
    "from pyspark.ml.feature import VectorAssembler, StandardScaler\n",
    "from pyspark.ml.clustering import KMeans\n",
    "from pyspark.ml import Pipeline\n",
    "from pyspark.sql.types import DoubleType, IntegerType\n"
   ]
  },
  {
   "cell_type": "code",
   "execution_count": 0,
   "metadata": {
    "application/vnd.databricks.v1+cell": {
     "cellMetadata": {
      "byteLimit": 2048000,
      "rowLimit": 10000
     },
     "inputWidgets": {},
     "nuid": "96432f89-22e2-46ba-8693-9f063b4f7d07",
     "showTitle": false,
     "tableResultSettingsMap": {},
     "title": ""
    }
   },
   "outputs": [],
   "source": [
    "database_name = \"banking_database\"\n",
    "customer_table_name = \"customers\"\n",
    "transactions_table_name = \"transactions\""
   ]
  },
  {
   "cell_type": "code",
   "execution_count": 0,
   "metadata": {
    "application/vnd.databricks.v1+cell": {
     "cellMetadata": {
      "byteLimit": 2048000,
      "rowLimit": 10000
     },
     "inputWidgets": {},
     "nuid": "9554b574-432d-429e-9605-68554bd244cd",
     "showTitle": false,
     "tableResultSettingsMap": {},
     "title": ""
    }
   },
   "outputs": [],
   "source": [
    "# Read existing Customer Data from the Delta Table\n",
    "try:\n",
    "    # Expected Customer Table Schema:\n",
    "    # - id (LongType)\n",
    "    # - first_name (StringType)\n",
    "    # - last_name (StringType)\n",
    "    # - age (IntegerType)\n",
    "    # - location (StringType)\n",
    "    # - annual_income (DoubleType)\n",
    "    # - dti (DoubleType)\n",
    "    # - ltv (DoubleType)\n",
    "    # - credit_score (IntegerType)\n",
    "    spark_customer_df = spark.read.format(\"delta\").table(f\"{database_name}.{customer_table_name}\")\n",
    "    print(f\"Customer table '{database_name}.{customer_table_name}' loaded successfully.\")\n",
    "except Exception as e:\n",
    "    print(f\"Error loading customer table: {e}\")\n",
    "    raise \n",
    "\n",
    "# Read existing Transactions Data from the Delta Table\n",
    "try:\n",
    "    # Expected Transactions Table Schema:\n",
    "    # - customer_id (LongType)\n",
    "    # - transaction_date (TimestampType)\n",
    "    # - amount (DoubleType)\n",
    "    # - recipient (StringType)\n",
    "    # - device_type (StringType)\n",
    "    spark_transactions_df = spark.read.format(\"delta\").table(f\"{database_name}.{transactions_table_name}\")\n",
    "    print(f\"Transactions table '{database_name}.{transactions_table_name}' loaded successfully.\")\n",
    "except Exception as e:\n",
    "    print(f\"Error loading transactions table: {e}\")\n",
    "    raise"
   ]
  },
  {
   "cell_type": "code",
   "execution_count": 0,
   "metadata": {
    "application/vnd.databricks.v1+cell": {
     "cellMetadata": {
      "byteLimit": 2048000,
      "rowLimit": 10000
     },
     "inputWidgets": {},
     "nuid": "24bfdfbb-fe1e-425d-b521-ce3e824dc848",
     "showTitle": false,
     "tableResultSettingsMap": {},
     "title": ""
    }
   },
   "outputs": [],
   "source": [
    "# Prepare Data for K-Means Clustering \n",
    "\n",
    "# Calculate Average Monthly Spending from the transactions table\n",
    "\n",
    "customer_spending_aggregates = spark_transactions_df.groupBy(\"customer_id\").agg(\n",
    "    avg(\"amount\").alias(\"Average_Monthly_Spending_Calculated\")\n",
    ")\n",
    "\n",
    "# Join customer data with the calculated spending aggregates\n",
    "\n",
    "customers_with_spending_df = spark_customer_df.join(\n",
    "    customer_spending_aggregates,\n",
    "    spark_customer_df.id == customer_spending_aggregates.customer_id,\n",
    "    \"left\"\n",
    ").select(\n",
    "    spark_customer_df[\"*\"], \n",
    "    customer_spending_aggregates[\"Average_Monthly_Spending_Calculated\"]\n",
    ")\n",
    "\n",
    "# Select relevant features for clustering: annual_income and the newly derived spending.\n",
    "clustering_data_df = customers_with_spending_df.select(\n",
    "    \"id\",\n",
    "    \"first_name\",\n",
    "    \"last_name\",\n",
    "    col(\"annual_income\").cast(DoubleType()).alias(\"Annual_Income\"),\n",
    "    col(\"Average_Monthly_Spending_Calculated\").cast(DoubleType()).alias(\"Average_Monthly_Spending\")\n",
    ").na.fill(0.0, subset=[\"Average_Monthly_Spending\"]) \n"
   ]
  },
  {
   "cell_type": "code",
   "execution_count": 0,
   "metadata": {
    "application/vnd.databricks.v1+cell": {
     "cellMetadata": {
      "byteLimit": 2048000,
      "rowLimit": 10000
     },
     "inputWidgets": {},
     "nuid": "01f6bbac-99d8-4d31-be45-303955224ac3",
     "showTitle": false,
     "tableResultSettingsMap": {},
     "title": ""
    }
   },
   "outputs": [],
   "source": [
    "# Assemble features into a single vector.\n",
    "clustering_assembler = VectorAssembler(\n",
    "    inputCols=[\"Annual_Income\", \"Average_Monthly_Spending\"],\n",
    "    outputCol=\"features_clustering\",\n",
    "    handleInvalid=\"skip\" \n",
    ")\n",
    "# StandardScaler to scales features to have zero mean and unit variance.\n",
    "scaler = StandardScaler()\n",
    "scaler.setInputCol(\"features_clustering\")\n",
    "scaler.setOutputCol(\"scaled_features_clustering\")\n",
    "scaler.setWithStd(True)\n",
    "scaler.setWithMean(False)"
   ]
  },
  {
   "cell_type": "code",
   "execution_count": 0,
   "metadata": {
    "application/vnd.databricks.v1+cell": {
     "cellMetadata": {},
     "inputWidgets": {},
     "nuid": "45b4906d-e6c6-4ecf-a18f-d4b2c7ab535c",
     "showTitle": false,
     "tableResultSettingsMap": {},
     "title": ""
    }
   },
   "outputs": [],
   "source": [
    "# Train K-Means Clustering Model \n",
    "# Define the K-Means model \n",
    "kmeans = KMeans()\n",
    "kmeans.setFeaturesCol(\"scaled_features_clustering\")\n",
    "kmeans.setK(4) \n",
    "kmeans.setSeed(42) \n",
    "\n",
    "# Create a pipeline for clustering: (assembler -> scaler -> kmeans)\n",
    "clustering_pipeline = Pipeline(stages=[clustering_assembler, scaler, kmeans])\n",
    "\n",
    "# Train the K-Means model on the prepared data.\n",
    "print(\"\\n--- Training K-Means Clustering Model ---\")\n",
    "kmeans_model = clustering_pipeline.fit(clustering_data_df)\n",
    "print(\"K-Means Model training complete.\")"
   ]
  },
  {
   "cell_type": "code",
   "execution_count": 0,
   "metadata": {
    "application/vnd.databricks.v1+cell": {
     "cellMetadata": {},
     "inputWidgets": {},
     "nuid": "28c85fd6-1bc9-4ff9-aba0-4e149c2f9af6",
     "showTitle": false,
     "tableResultSettingsMap": {},
     "title": ""
    }
   },
   "outputs": [],
   "source": [
    "# Assign Clusters and Interpret Categories\n",
    "\n",
    "clustered_customers_df = kmeans_model.transform(clustering_data_df)\n",
    "\n",
    "print(\"\\n--- Average Income and Spending per Cluster (for interpretation) ---\")\n",
    "cluster_summary = clustered_customers_df.groupBy(\"prediction\").agg(\n",
    "    avg(\"Annual_Income\").alias(\"Avg_Annual_Income\"),\n",
    "    avg(\"Average_Monthly_Spending\").alias(\"Avg_Monthly_Spending\")\n",
    ").orderBy(\"prediction\")\n",
    "cluster_summary.show()"
   ]
  },
  {
   "cell_type": "code",
   "execution_count": 0,
   "metadata": {
    "application/vnd.databricks.v1+cell": {
     "cellMetadata": {
      "byteLimit": 2048000,
      "rowLimit": 10000
     },
     "inputWidgets": {},
     "nuid": "da9dce2f-c7e6-4f3d-8049-6e041e008e35",
     "showTitle": false,
     "tableResultSettingsMap": {},
     "title": ""
    }
   },
   "outputs": [],
   "source": [
    "overall_avg_income = clustered_customers_df.agg(avg(\"Annual_Income\")).collect()[0][0]\n",
    "overall_avg_spending = clustered_customers_df.agg(avg(\"Average_Monthly_Spending\")).collect()[0][0]\n",
    "\n",
    "print(f\"\\nOverall Average Annual Income: {overall_avg_income:.2f}\")\n",
    "print(f\"Overall Average Monthly Spending: {overall_avg_spending:.2f}\")\n",
    "\n",
    "customer_segments_df = clustered_customers_df.withColumn(\n",
    "    \"customer_category\",\n",
    "    when((col(\"Annual_Income\") >= overall_avg_income) & (col(\"Average_Monthly_Spending\") >= overall_avg_spending), lit(\"High Income High Spenders\"))\n",
    "    .when((col(\"Annual_Income\") >= overall_avg_income) & (col(\"Average_Monthly_Spending\") < overall_avg_spending), lit(\"High Income Low Spenders\"))\n",
    "    .when((col(\"Annual_Income\") < overall_avg_income) & (col(\"Average_Monthly_Spending\") >= overall_avg_spending), lit(\"Low Income High Spenders\"))\n",
    "    .otherwise(lit(\"Low Income Low Spenders\"))\n",
    ")"
   ]
  },
  {
   "cell_type": "code",
   "execution_count": 0,
   "metadata": {
    "application/vnd.databricks.v1+cell": {
     "cellMetadata": {},
     "inputWidgets": {},
     "nuid": "c38e098b-b667-4ec2-9e87-9680864fb9b7",
     "showTitle": false,
     "tableResultSettingsMap": {},
     "title": ""
    }
   },
   "outputs": [],
   "source": [
    "customer_segments_df = clustered_customers_df.withColumn(\n",
    "    \"customer_category\",\n",
    "    when(col(\"prediction\") == 0, lit(\"High Income High Spenders\")) \n",
    "    .when(col(\"prediction\") == 1, lit(\"Low Income Low Spenders\"))  \n",
    "    .when(col(\"prediction\") == 2, lit(\"High Income Low Spenders\")) \n",
    "    .when(col(\"prediction\") == 3, lit(\"Low Income High Spenders\")) \n",
    "    .otherwise(lit(\"Uncategorized\")) # Fallback for any unmapped clusters\n",
    ")"
   ]
  },
  {
   "cell_type": "code",
   "execution_count": 0,
   "metadata": {
    "application/vnd.databricks.v1+cell": {
     "cellMetadata": {},
     "inputWidgets": {},
     "nuid": "de9401af-5189-4c15-a758-ffec042950be",
     "showTitle": false,
     "tableResultSettingsMap": {},
     "title": ""
    }
   },
   "outputs": [],
   "source": [
    "customer_segmentation_output_table_name = \"customer_income_spending_segments\"\n",
    "customer_segments_df.write.format(\"delta\").mode(\"overwrite\").saveAsTable(f\"{database_name}.{customer_segmentation_output_table_name}\")\n"
   ]
  }
 ],
 "metadata": {
  "application/vnd.databricks.v1+notebook": {
   "computePreferences": null,
   "dashboards": [],
   "environmentMetadata": {
    "base_environment": "",
    "environment_version": "2"
   },
   "inputWidgetPreferences": null,
   "language": "python",
   "notebookMetadata": {
    "pythonIndentUnit": 4
   },
   "notebookName": "customerSegmentationModel",
   "widgets": {}
  },
  "language_info": {
   "name": "python"
  }
 },
 "nbformat": 4,
 "nbformat_minor": 0
}
