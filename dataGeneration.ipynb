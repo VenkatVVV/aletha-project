{
 "cells": [
  {
   "cell_type": "code",
   "execution_count": 0,
   "metadata": {
    "application/vnd.databricks.v1+cell": {
     "cellMetadata": {
      "byteLimit": 2048000,
      "rowLimit": 10000
     },
     "inputWidgets": {},
     "nuid": "07692a91-24be-4c7b-8b13-5fcdced67b55",
     "showTitle": false,
     "tableResultSettingsMap": {},
     "title": ""
    }
   },
   "outputs": [],
   "source": [
    "# Imports\n",
    "import pandas as pd"
   ]
  },
  {
   "cell_type": "code",
   "execution_count": 0,
   "metadata": {
    "application/vnd.databricks.v1+cell": {
     "cellMetadata": {},
     "inputWidgets": {},
     "nuid": "aefe9a96-5fd9-49fb-8c27-3927297430bf",
     "showTitle": false,
     "tableResultSettingsMap": {},
     "title": ""
    }
   },
   "outputs": [],
   "source": [
    "''' laying out the database scheme and generating sample data to use for the models\n",
    "\n",
    "TABLE 1: Customers\n",
    "COLUMNS:\n",
    "- Id\n",
    "- First Name\n",
    "- Last Name\n",
    "- Age\n",
    "- Location\n",
    "- Annual Income\n",
    "- Debt-To-Income Ratio (DTI)\n",
    "- Loan-to-Value Ratio (LTV) \n",
    "- Average Monthly Spending \n",
    "- Credit Score\n",
    "\n",
    "TABLE 2: Transactions \n",
    "COLUMNS: \n",
    "- Customer ID \n",
    "- Transaction Date\n",
    "- Amount \n",
    "- Recipient\n",
    "- Device Type\n",
    "'''"
   ]
  },
  {
   "cell_type": "code",
   "execution_count": 0,
   "metadata": {
    "application/vnd.databricks.v1+cell": {
     "cellMetadata": {
      "byteLimit": 2048000,
      "rowLimit": 10000
     },
     "inputWidgets": {},
     "nuid": "fffc4756-4e8d-476b-819d-89a22732f5a7",
     "showTitle": false,
     "tableResultSettingsMap": {},
     "title": ""
    }
   },
   "outputs": [],
   "source": [
    "# sample data for customers table\n",
    "customers = {\n",
    "    'id': [1, 2, 3, 4, 5],\n",
    "    'first_name': ['Mitch', 'Auston', 'William', 'Joseph', 'John'],\n",
    "    'last_name' : ['Marner', 'Matthews', 'Nylander', 'Woll', 'Tavares'],\n",
    "    'age': [28, 27, 29, 26, 34],\n",
    "    'location': ['CA', 'USA', 'CA', 'USA', 'Canada'],\n",
    "    'annual_income': [0, 0, 0, 0, 0],\n",
    "    'dti': [0, 0, 0, 0, 0],\n",
    "    'ltv': [0, 0, 0, 0, 0],\n",
    "    'avg_monthly_spending': [0, 0, 0, 0, 0],\n",
    "    'credit_score': [0, 0, 0, 0, 0]\n",
    "}\n",
    "customers_df = pd.DataFrame(customers)\n",
    "\n",
    "# sample data for transactions table\n",
    "# 90 days worth of transaction records \n",
    "transaction_dates = pd.date_range(start='2025-01-01', end='2025-03-31', freq='D')\n",
    "\n",
    "transactions = {\n",
    "    'customer_id': [1, 2, 3, 4, 5],\n",
    "    'date' : ['2025-01-01', '2025-01-02', '2025-01-03', '2025-01-04', '2025-01-05'],\n",
    "    'amount': [100, 200, 300, 9999, 500],   \n",
    "    'recipient': ['Walmart', 'Tim Hortons', 'Nike', 'Unknown', 'Walmart'],\n",
    "    'device_type': ['Credit Card', 'Credit Card', 'Online', 'Unknown', 'Credit Card'],\n",
    "}\n",
    "transactions_df = pd.DataFrame(transactions)"
   ]
  },
  {
   "cell_type": "code",
   "execution_count": 0,
   "metadata": {
    "application/vnd.databricks.v1+cell": {
     "cellMetadata": {},
     "inputWidgets": {},
     "nuid": "dc5e5ac9-e95c-4ec3-81b3-f65cad40368b",
     "showTitle": false,
     "tableResultSettingsMap": {},
     "title": ""
    }
   },
   "outputs": [],
   "source": [
    "def create_sql_table(database_name, table_name, df): \n",
    "    spark_df = spark.createDataFrame(df)\n",
    "    spark_df.write.format(\"delta\").mode(\"overwrite\").saveAsTable(f\"{database_name}.{table_name}\")\n",
    "    print(f\"\\nManaged Delta table '{database_name}.{customers_table}' created successfully!\")\n"
   ]
  },
  {
   "cell_type": "code",
   "execution_count": 0,
   "metadata": {
    "application/vnd.databricks.v1+cell": {
     "cellMetadata": {
      "byteLimit": 2048000,
      "rowLimit": 10000
     },
     "inputWidgets": {},
     "nuid": "e2f50445-bed4-4df0-a591-7883c7520ae9",
     "showTitle": false,
     "tableResultSettingsMap": {},
     "title": ""
    }
   },
   "outputs": [],
   "source": [
    "# Create database and tables\n",
    "\n",
    "database_name = \"banking_database\"\n",
    "customers_table = \"customers\"\n",
    "transaction_table = \"transactions\"\n",
    "bank_table = \"bank\"\n",
    "\n",
    "spark.sql(f\"CREATE DATABASE IF NOT EXISTS `{database_name}`\")"
   ]
  }
 ],
 "metadata": {
  "application/vnd.databricks.v1+notebook": {
   "computePreferences": null,
   "dashboards": [],
   "environmentMetadata": {
    "base_environment": "",
    "environment_version": "2"
   },
   "inputWidgetPreferences": null,
   "language": "python",
   "notebookMetadata": {
    "pythonIndentUnit": 4
   },
   "notebookName": "dataGeneration",
   "widgets": {}
  },
  "language_info": {
   "name": "python"
  }
 },
 "nbformat": 4,
 "nbformat_minor": 0
}
