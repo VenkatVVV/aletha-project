{
 "cells": [
  {
   "cell_type": "code",
   "execution_count": 0,
   "metadata": {
    "application/vnd.databricks.v1+cell": {
     "cellMetadata": {
      "byteLimit": 2048000,
      "rowLimit": 10000
     },
     "inputWidgets": {},
     "nuid": "07692a91-24be-4c7b-8b13-5fcdced67b55",
     "showTitle": false,
     "tableResultSettingsMap": {},
     "title": ""
    }
   },
   "outputs": [],
   "source": [
    "# Imports\n",
    "import pandas as pd\n",
    "import numpy as np \n",
    "import random \n",
    "from datetime import datetime, timedelta"
   ]
  },
  {
   "cell_type": "code",
   "execution_count": 0,
   "metadata": {
    "application/vnd.databricks.v1+cell": {
     "cellMetadata": {},
     "inputWidgets": {},
     "nuid": "aefe9a96-5fd9-49fb-8c27-3927297430bf",
     "showTitle": false,
     "tableResultSettingsMap": {},
     "title": ""
    }
   },
   "outputs": [],
   "source": [
    "''' laying out the database scheme and generating sample data to use for the models\n",
    "\n",
    "TABLE 1: Customers\n",
    "COLUMNS:\n",
    "- Id\n",
    "- First Name\n",
    "- Last Name\n",
    "- Age\n",
    "- Location\n",
    "- Annual Income\n",
    "- Debt-To-Income Ratio (DTI)\n",
    "- Loan-to-Value Ratio (LTV) \n",
    "- Credit Score\n",
    "\n",
    "TABLE 2: Transactions \n",
    "COLUMNS: \n",
    "- Customer ID \n",
    "- Transaction Date\n",
    "- Amount \n",
    "- Recipient\n",
    "- Device Type\n",
    "'''"
   ]
  },
  {
   "cell_type": "code",
   "execution_count": 0,
   "metadata": {
    "application/vnd.databricks.v1+cell": {
     "cellMetadata": {
      "byteLimit": 2048000,
      "rowLimit": 10000
     },
     "inputWidgets": {},
     "nuid": "e2f50445-bed4-4df0-a591-7883c7520ae9",
     "showTitle": false,
     "tableResultSettingsMap": {},
     "title": ""
    }
   },
   "outputs": [],
   "source": [
    "# Create database and tables\n",
    "\n",
    "database_name = \"banking_database\"\n",
    "customers_table = \"customers\"\n",
    "transaction_table = \"transactions\"\n",
    "bank_table = \"bank\"\n",
    "\n",
    "spark.sql(f\"CREATE DATABASE IF NOT EXISTS `{database_name}`\")"
   ]
  },
  {
   "cell_type": "code",
   "execution_count": 0,
   "metadata": {
    "application/vnd.databricks.v1+cell": {
     "cellMetadata": {
      "byteLimit": 2048000,
      "rowLimit": 10000
     },
     "inputWidgets": {},
     "nuid": "fffc4756-4e8d-476b-819d-89a22732f5a7",
     "showTitle": false,
     "tableResultSettingsMap": {},
     "title": ""
    }
   },
   "outputs": [],
   "source": [
    "# sample data for customers table\n",
    "customers = {\n",
    "    'id': [1, 2, 3, 4, 5],\n",
    "    'first_name': ['Mitch', 'Auston', 'William', 'Joseph', 'John'],\n",
    "    'last_name' : ['Marner', 'Matthews', 'Nylander', 'Woll', 'Tavares'],\n",
    "    'age': [28, 27, 29, 26, 34],\n",
    "    'location': ['CA', 'USA', 'CA', 'USA', 'Canada'],\n",
    "    'annual_income': [200000, 350000, 150000, 90000, 180000],\n",
    "    'dti': [0.5, 0.4, 0.7, 0.6, 0.8],\n",
    "    'ltv': [0.58, 0.33, 0.66, 0.8, 0.75],\n",
    "    'credit_score': [700, 900, 600, 450, 540]\n",
    "}\n",
    "customers_df = pd.DataFrame(customers)\n",
    "\n",
    "# sample data for transactions table\n",
    "\n",
    "# transactions = {\n",
    "# 'customer_id': [1, 2, 3, 4, 5],\n",
    "# 'date' : ['2025-01-01', '2025-01-02', '2025-01-03', '2025-01-04', '2025-01-05'],\n",
    "# 'amount': [100, 200, 300, 9999, 500],   \n",
    "# 'recipient': ['Walmart', 'Tim Hortons', 'Nike', 'Unknown', 'Walmart'],\n",
    "# 'device_type': ['Credit Card', 'Credit Card', 'Online', 'Unknown', 'Credit Card'],\n",
    "# }\n",
    "#transactions_df = pd.DataFrame(transactions)"
   ]
  },
  {
   "cell_type": "code",
   "execution_count": 0,
   "metadata": {
    "application/vnd.databricks.v1+cell": {
     "cellMetadata": {
      "byteLimit": 2048000,
      "rowLimit": 10000
     },
     "inputWidgets": {},
     "nuid": "dc5e5ac9-e95c-4ec3-81b3-f65cad40368b",
     "showTitle": false,
     "tableResultSettingsMap": {},
     "title": ""
    }
   },
   "outputs": [],
   "source": [
    "def create_sql_table(database_name, table_name, df): \n",
    "    spark_df = spark.createDataFrame(df)\n",
    "    spark_df.write.format(\"delta\").mode(\"overwrite\").saveAsTable(f\"{database_name}.{table_name}\")\n",
    "    print(f\"\\nManaged Delta table '{database_name}.{table_name}' created successfully!\")\n"
   ]
  },
  {
   "cell_type": "code",
   "execution_count": 0,
   "metadata": {
    "application/vnd.databricks.v1+cell": {
     "cellMetadata": {
      "byteLimit": 2048000,
      "rowLimit": 10000
     },
     "inputWidgets": {},
     "nuid": "119f3b38-6ec5-4698-86a6-c801a8b35c0c",
     "showTitle": false,
     "tableResultSettingsMap": {},
     "title": ""
    }
   },
   "outputs": [],
   "source": [
    "create_sql_table(database_name, customers_table, customers_df)"
   ]
  },
  {
   "cell_type": "code",
   "execution_count": 0,
   "metadata": {
    "application/vnd.databricks.v1+cell": {
     "cellMetadata": {
      "byteLimit": 2048000,
      "rowLimit": 10000
     },
     "inputWidgets": {},
     "nuid": "1cc408ca-eb41-4fb9-a953-bcab25d68598",
     "showTitle": false,
     "tableResultSettingsMap": {},
     "title": ""
    }
   },
   "outputs": [],
   "source": [
    "# Utility Function: Generate Synthetic Transaction Data \n",
    "def generate_transaction_data(\n",
    "    num_data_points: int,\n",
    "    num_days: int,\n",
    "    mean_amount: float,\n",
    "    std_dev_amount: float, # Added standard deviation for more realistic amounts\n",
    "    recipients_list: list,\n",
    "    device_types_list: list,\n",
    "    customer_id: int, # the specific customer_id generating for\n",
    "    transactions: list,\n",
    "): \n",
    "    end_date = datetime.now()\n",
    "    start_date = end_date - timedelta(days=num_days)\n",
    "\n",
    "    for _ in range(num_data_points):\n",
    "\n",
    "        # Generate random Transaction Date within the specified range\n",
    "        random_seconds = random.uniform(0, num_days * 24 * 3600)\n",
    "        transaction_date = start_date + timedelta(seconds=random_seconds)\n",
    "\n",
    "        # Generate Amount using a normal distribution, ensuring it's positive\n",
    "        amount = max(5.0, np.random.normal(loc=mean_amount, scale=std_dev_amount)) # Ensure amount is at least 5.0\n",
    "\n",
    "        # Select random Recipient and Device Type\n",
    "        recipient = random.choice(recipients_list)\n",
    "        device_type = random.choice(device_types_list)\n",
    "\n",
    "        transactions.append({\n",
    "            'Customer ID': customer_id,\n",
    "            'Transaction Date': transaction_date,\n",
    "            'Amount': round(amount, 2), # Round to 2 decimal places\n",
    "            'Recipient': recipient,\n",
    "            'Device Type': device_type\n",
    "        })\n",
    "\n",
    "    return transactions"
   ]
  },
  {
   "cell_type": "code",
   "execution_count": 0,
   "metadata": {
    "application/vnd.databricks.v1+cell": {
     "cellMetadata": {
      "byteLimit": 2048000,
      "rowLimit": 10000
     },
     "inputWidgets": {},
     "nuid": "0f8c641f-3243-43e2-9206-af5e04051516",
     "showTitle": false,
     "tableResultSettingsMap": {},
     "title": ""
    }
   },
   "outputs": [],
   "source": [
    "def introduce_fraud(\n",
    "    transactions_df: pd.DataFrame,\n",
    "    fraud_percentage: float = 0.05, # Percentage of transactions to mark as fraudulent\n",
    "    fraud_amount_min: float = 2000.0,\n",
    "    fraud_amount_max: float = 5000.0\n",
    ") -> pd.DataFrame:\n",
    "    \n",
    "    df_copy = transactions_df.copy()\n",
    "    num_transactions = len(df_copy)\n",
    "    num_fraudulent = int(num_transactions * fraud_percentage)\n",
    "\n",
    "    if num_fraudulent == 0 and fraud_percentage > 0:\n",
    "        print(\"Warning\")\n",
    "        df_copy['is_fraudulent'] = False\n",
    "        return df_copy\n",
    "\n",
    "    # Randomly select indices to mark as fraudulent\n",
    "    fraud_indices = np.random.choice(num_transactions, num_fraudulent, replace=False)\n",
    "\n",
    "    # Mark selected transactions as fraudulent\n",
    "    df_copy.loc[fraud_indices, 'Amount'] = np.random.uniform(fraud_amount_min, fraud_amount_max, num_fraudulent).round(2)\n",
    "    df_copy.loc[fraud_indices, 'Recipient'] = \"Unknown\"\n",
    "    df_copy.loc[fraud_indices, 'Device Type'] = \"Unknown\"\n",
    "    df_copy['is_fraudulent'] = False # Initialize all as False\n",
    "    df_copy.loc[fraud_indices, 'is_fraudulent'] = True # Set selected ones to True\n",
    "\n",
    "    return df_copy"
   ]
  },
  {
   "cell_type": "code",
   "execution_count": 0,
   "metadata": {
    "application/vnd.databricks.v1+cell": {
     "cellMetadata": {
      "byteLimit": 2048000,
      "rowLimit": 10000
     },
     "inputWidgets": {},
     "nuid": "d2f63944-7884-44e2-b17f-7dbb0826c1f5",
     "showTitle": false,
     "tableResultSettingsMap": {},
     "title": ""
    }
   },
   "outputs": [],
   "source": [
    "test_df.head()"
   ]
  },
  {
   "cell_type": "code",
   "execution_count": 0,
   "metadata": {
    "application/vnd.databricks.v1+cell": {
     "cellMetadata": {
      "byteLimit": 2048000,
      "rowLimit": 10000
     },
     "inputWidgets": {},
     "nuid": "12b2274f-f39d-4272-a9cc-eb9fa306635b",
     "showTitle": false,
     "tableResultSettingsMap": {},
     "title": ""
    }
   },
   "outputs": [],
   "source": [
    "transactions_list = generate_transaction_data(90, 30, 300, 50, ['Walmart', 'Tim Hortons', 'Nike', 'Esso', 'Presto'], ['Credit Card', 'Online', 'Apple Pay'], 1, [])"
   ]
  },
  {
   "cell_type": "code",
   "execution_count": 0,
   "metadata": {
    "application/vnd.databricks.v1+cell": {
     "cellMetadata": {
      "byteLimit": 2048000,
      "rowLimit": 10000
     },
     "inputWidgets": {},
     "nuid": "96449031-473e-47fa-ad7f-b169d1d4de6a",
     "showTitle": false,
     "tableResultSettingsMap": {},
     "title": ""
    }
   },
   "outputs": [],
   "source": [
    "transactions_list = generate_transaction_data(90, 30, 500, 100, ['Whole Foods', 'Tim Hortons', 'Gucci', 'Esso', 'Presto'], ['Credit Card', 'Online', 'Apple Pay'], 2, transactions_list)"
   ]
  },
  {
   "cell_type": "code",
   "execution_count": 0,
   "metadata": {
    "application/vnd.databricks.v1+cell": {
     "cellMetadata": {
      "byteLimit": 2048000,
      "rowLimit": 10000
     },
     "inputWidgets": {},
     "nuid": "c163fb8d-c0be-438d-b84b-e65d2404ca16",
     "showTitle": false,
     "tableResultSettingsMap": {},
     "title": ""
    }
   },
   "outputs": [],
   "source": [
    "transactions_list = generate_transaction_data(90, 30, 250, 75, ['Sobeys', 'Starbucks', 'Prada', 'Esso', 'Presto'], ['Credit Card', 'Online', 'Apple Pay'], 3, transactions_list)"
   ]
  },
  {
   "cell_type": "code",
   "execution_count": 0,
   "metadata": {
    "application/vnd.databricks.v1+cell": {
     "cellMetadata": {
      "byteLimit": 2048000,
      "rowLimit": 10000
     },
     "inputWidgets": {},
     "nuid": "0f7a66a7-5a8d-44f3-9474-b7d9cc77a3c2",
     "showTitle": false,
     "tableResultSettingsMap": {},
     "title": ""
    }
   },
   "outputs": [],
   "source": [
    "transactions_list = generate_transaction_data(90, 30, 100, 25, ['NoFrills', 'Tim Hortons', 'Joe Fresh', 'Esso', 'Presto'], ['Credit Card', 'Online', 'Apple Pay'], 4, transactions_list)"
   ]
  },
  {
   "cell_type": "code",
   "execution_count": 0,
   "metadata": {
    "application/vnd.databricks.v1+cell": {
     "cellMetadata": {
      "byteLimit": 2048000,
      "rowLimit": 10000
     },
     "inputWidgets": {},
     "nuid": "855dd08d-97b2-4bb5-a9f4-7954b42369b4",
     "showTitle": false,
     "tableResultSettingsMap": {},
     "title": ""
    }
   },
   "outputs": [],
   "source": [
    "transactions_list = generate_transaction_data(90, 30, 150, 25, ['NoFrills', 'Tim Hortons', 'Joe Fresh', 'Esso', 'Presto'], ['Credit Card', 'Online', 'Apple Pay'], 5, transactions_list)"
   ]
  },
  {
   "cell_type": "code",
   "execution_count": 0,
   "metadata": {
    "application/vnd.databricks.v1+cell": {
     "cellMetadata": {
      "byteLimit": 2048000,
      "rowLimit": 10000
     },
     "inputWidgets": {},
     "nuid": "4dea3874-1988-4bbf-98a5-689f86a3f019",
     "showTitle": false,
     "tableResultSettingsMap": {},
     "title": ""
    }
   },
   "outputs": [],
   "source": [
    "transactions_df = pd.DataFrame(transactions_list)"
   ]
  },
  {
   "cell_type": "code",
   "execution_count": 0,
   "metadata": {
    "application/vnd.databricks.v1+cell": {
     "cellMetadata": {
      "byteLimit": 2048000,
      "rowLimit": 10000
     },
     "inputWidgets": {},
     "nuid": "c87e23bb-4c6b-42dc-be55-c3453aeb9646",
     "showTitle": false,
     "tableResultSettingsMap": {},
     "title": ""
    }
   },
   "outputs": [],
   "source": [
    "transactions_with_fraud_df = introduce_fraud(transactions_df)"
   ]
  },
  {
   "cell_type": "code",
   "execution_count": 0,
   "metadata": {
    "application/vnd.databricks.v1+cell": {
     "cellMetadata": {
      "byteLimit": 2048000,
      "rowLimit": 10000
     },
     "inputWidgets": {},
     "nuid": "a9ae61e7-9619-408d-b2c9-bd702d2d2db6",
     "showTitle": false,
     "tableResultSettingsMap": {},
     "title": ""
    }
   },
   "outputs": [],
   "source": [
    "transactions_with_fraud_df = transactions_with_fraud_df.drop(columns=['is_fraudulent'])"
   ]
  },
  {
   "cell_type": "code",
   "execution_count": 0,
   "metadata": {
    "application/vnd.databricks.v1+cell": {
     "cellMetadata": {
      "byteLimit": 2048000,
      "rowLimit": 10000
     },
     "inputWidgets": {},
     "nuid": "c6bf7280-77a9-4df0-b0cb-1d2b6719bf26",
     "showTitle": false,
     "tableResultSettingsMap": {},
     "title": ""
    }
   },
   "outputs": [],
   "source": [
    "create_sql_table(database_name, transaction_table, transactions_with_fraud_df.rename(columns={'Customer ID': 'customer_iD', 'Transaction Date': 'transaction_date', 'Amount': 'amount', 'Recipient': 'recipient', 'Device Type': 'device_type'}))"
   ]
  }
 ],
 "metadata": {
  "application/vnd.databricks.v1+notebook": {
   "computePreferences": null,
   "dashboards": [],
   "environmentMetadata": {
    "base_environment": "",
    "environment_version": "2"
   },
   "inputWidgetPreferences": null,
   "language": "python",
   "notebookMetadata": {
    "pythonIndentUnit": 4
   },
   "notebookName": "dataGeneration",
   "widgets": {}
  },
  "language_info": {
   "name": "python"
  }
 },
 "nbformat": 4,
 "nbformat_minor": 0
}
