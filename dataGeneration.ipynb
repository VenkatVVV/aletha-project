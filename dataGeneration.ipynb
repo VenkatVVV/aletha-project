{
 "cells": [
  {
   "cell_type": "code",
   "execution_count": 0,
   "metadata": {
    "application/vnd.databricks.v1+cell": {
     "cellMetadata": {
      "byteLimit": 2048000,
      "rowLimit": 10000
     },
     "inputWidgets": {},
     "nuid": "07692a91-24be-4c7b-8b13-5fcdced67b55",
     "showTitle": false,
     "tableResultSettingsMap": {},
     "title": ""
    }
   },
   "outputs": [],
   "source": [
    "# Imports\n",
    "import pandas as pd"
   ]
  },
  {
   "cell_type": "code",
   "execution_count": 0,
   "metadata": {
    "application/vnd.databricks.v1+cell": {
     "cellMetadata": {},
     "inputWidgets": {},
     "nuid": "aefe9a96-5fd9-49fb-8c27-3927297430bf",
     "showTitle": false,
     "tableResultSettingsMap": {},
     "title": ""
    }
   },
   "outputs": [],
   "source": [
    "''' laying out the database scheme and generating sample data to use for the models\n",
    "\n",
    "TABLE 1: Customers\n",
    "COLUMNS:\n",
    "- Id\n",
    "- First Name\n",
    "- Last Name\n",
    "- Age\n",
    "- Location\n",
    "\n",
    "TABLE 2: Bank\n",
    "- Customer ID\n",
    "- Annual Income\n",
    "- Debt-To-Income Ratio (DTI)\n",
    "- Loan-to-Value Ratio (LTV) \n",
    "- Average Monthly Spending \n",
    "- Credit Score\n",
    "\n",
    "TABLE 2: Transactions \n",
    "COLUMNS: \n",
    "- Customer ID \n",
    "- Transaction Date\n",
    "- Amount \n",
    "- Recipient\n",
    "- Device Type\n",
    "'''"
   ]
  },
  {
   "cell_type": "code",
   "execution_count": 0,
   "metadata": {
    "application/vnd.databricks.v1+cell": {
     "cellMetadata": {
      "byteLimit": 2048000,
      "rowLimit": 10000
     },
     "inputWidgets": {},
     "nuid": "fffc4756-4e8d-476b-819d-89a22732f5a7",
     "showTitle": false,
     "tableResultSettingsMap": {},
     "title": ""
    }
   },
   "outputs": [],
   "source": [
    "# sample data for customers table\n",
    "customers = {\n",
    "    'id': [1, 2, 3, 4, 5],\n",
    "    'first_name': ['Mitch', 'Auston', 'William', 'Joseph', 'John'],\n",
    "    'last_name' : ['Marner', 'Matthews', 'Nylander', 'Woll', 'Tavares'],\n",
    "    'age': [28, 27, 29, 26, 34],\n",
    "    'location': ['CA', 'USA', 'CA', 'USA', 'Canada']\n",
    "}\n",
    "\n",
    "customers_df = pd.DataFrame(customers)"
   ]
  },
  {
   "cell_type": "code",
   "execution_count": 0,
   "metadata": {
    "application/vnd.databricks.v1+cell": {
     "cellMetadata": {
      "byteLimit": 2048000,
      "rowLimit": 10000
     },
     "inputWidgets": {},
     "nuid": "e2f50445-bed4-4df0-a591-7883c7520ae9",
     "showTitle": false,
     "tableResultSettingsMap": {},
     "title": ""
    }
   },
   "outputs": [],
   "source": [
    "# Create database and tables\n",
    "\n",
    "database_name = \"banking_database\"\n",
    "customers_table = \"customers\"\n",
    "transaction_table = \"transactions\"\n",
    "bank_table = \"bank\"\n",
    "\n",
    "# Convert pandas DataFrame to Spark DataFrame\n",
    "spark_df = spark.createDataFrame(customers_df)\n",
    "\n",
    "spark.sql(f\"CREATE DATABASE IF NOT EXISTS `{database_name}`\")\n",
    "\n",
    "# Write the Spark DataFrame to a Delta table\n",
    "# using .write.saveAsTable()\n",
    "# 'mode(\"overwrite\")' will replace the table if it already exists.\n",
    "# Use 'mode(\"append\")' to add data to an existing table.\n",
    "# Use 'mode(\"errorifexists\")' (default) to throw an error if table exists.\n",
    "spark_df.write.format(\"delta\").mode(\"overwrite\").saveAsTable(f\"{database_name}.{customers_table}\")\n",
    "\n",
    "print(f\"\\nManaged Delta table '{database_name}.{customers_table}' created successfully!\")\n",
    "\n",
    "\n",
    "\n"
   ]
  }
 ],
 "metadata": {
  "application/vnd.databricks.v1+notebook": {
   "computePreferences": null,
   "dashboards": [],
   "environmentMetadata": {
    "base_environment": "",
    "environment_version": "2"
   },
   "inputWidgetPreferences": null,
   "language": "python",
   "notebookMetadata": {
    "pythonIndentUnit": 4
   },
   "notebookName": "dataGeneration",
   "widgets": {}
  },
  "language_info": {
   "name": "python"
  }
 },
 "nbformat": 4,
 "nbformat_minor": 0
}
