{
 "cells": [
  {
   "cell_type": "code",
   "execution_count": 0,
   "metadata": {
    "application/vnd.databricks.v1+cell": {
     "cellMetadata": {},
     "inputWidgets": {},
     "nuid": "aefe9a96-5fd9-49fb-8c27-3927297430bf",
     "showTitle": false,
     "tableResultSettingsMap": {},
     "title": ""
    }
   },
   "outputs": [],
   "source": [
    "''' laying out the database scheme and generating sample data to use for the models\n",
    "\n",
    "TABLE 1: Customers\n",
    "COLUMNS:\n",
    "- Id\n",
    "- Name\n",
    "- Age\n",
    "- Marital Status\n",
    "- Dependents\n",
    "- Location\n",
    "\n",
    "TABLE 2: Bank\n",
    "- Customer ID\n",
    "- Annual Income\n",
    "- Debt-To-Income Ratio (DTI)\n",
    "- Loan-to-Value Ratio (LTV) \n",
    "- Average Monthly Spending \n",
    "- Credit Score\n",
    "\n",
    "TABLE 2: Transactions \n",
    "COLUMNS: \n",
    "- Customer ID \n",
    "- Transaction Date\n",
    "- Amount \n",
    "- Recipient\n",
    "- Device Type\n",
    "'''"
   ]
  }
 ],
 "metadata": {
  "application/vnd.databricks.v1+notebook": {
   "computePreferences": null,
   "dashboards": [],
   "environmentMetadata": {
    "base_environment": "",
    "environment_version": "2"
   },
   "inputWidgetPreferences": null,
   "language": "python",
   "notebookMetadata": {
    "pythonIndentUnit": 4
   },
   "notebookName": "sampleDataGenerator",
   "widgets": {}
  },
  "language_info": {
   "name": "python"
  }
 },
 "nbformat": 4,
 "nbformat_minor": 0
}
